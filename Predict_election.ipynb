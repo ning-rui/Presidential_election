{
 "cells": [
  {
   "cell_type": "code",
   "execution_count": null,
   "id": "e7b9c930-d94a-42df-b603-887e7cae7c62",
   "metadata": {},
   "outputs": [],
   "source": [
    "#%%\n",
    "\n",
    "import time\n",
    "import random\n",
    "import sys"
   ]
  },
  {
   "cell_type": "code",
   "execution_count": null,
   "id": "7815b425-702e-4064-85af-ba976413a17d",
   "metadata": {},
   "outputs": [],
   "source": [
    "#%%\n",
    "\n",
    "TRIALS = 1e6\n",
    "\n",
    "elections = [\n",
    "    [1789, [\"Washington\"]],\n",
    "    [1792, [\"Washington\"]],\n",
    "    [1796, [\"Adams\", \"Jefferson\"]],\n",
    "    [1800, [\"Jefferson\", \"Adams\"]],\n",
    "    [1804, [\"Jefferson\", \"Cotesworth\"]],\n",
    "    [1808, [\"Madison\", \"Cotesworth\"]],\n",
    "    [1812, [\"Madison\", \"Clinton\"]],\n",
    "    [1816, [\"Monroe\", \"King\"]],\n",
    "    [1820, [\"Monroe\"]],\n",
    "    [1824, [\"Adams\", \"Jackson\"]],\n",
    "    [1828, [\"Jackson\", \"Adams\"]],\n",
    "    [1832, [\"Jackson\", \"Clay\"]],\n",
    "    [1836, [\"Van Buren\", \"Harrison\"]],\n",
    "    [1840, [\"Harrison\", \"Van Buren\"]],\n",
    "    [1844, [\"Polk\", \"Clay\"]],\n",
    "    [1848, [\"Taylor\", \"Cass\"]],\n",
    "    [1852, [\"Pierce\", \"Scott\"]],\n",
    "    [1856, [\"Buchanan\", \"Frémont\", \"Filmore\"]],\n",
    "    [1860, [\"Lincoln\", \"Breckinridge\", \"Bell\", \"Douglas\"]],\n",
    "    [1864, [\"Lincoln\", \"McClellan\"]],\n",
    "    [1868, [\"Grant\", \"Seymour\"]],\n",
    "    [1872, [\"Grant\", \"Greeley\"]],\n",
    "    [1876, [\"Hayes\", \"Tilden\"]],\n",
    "    [1880, [\"Garfield\", \"Hancock\"]],\n",
    "    [1884, [\"Cleveland\", \"Blaine\"]],\n",
    "    [1888, [\"Harrison\", \"Cleveland\"]],\n",
    "    [1892, [\"Cleveland\", \"Harrison\", \"Weaver\"]],\n",
    "    [1896, [\"McKinley\", \"Bryan\"]],\n",
    "    [1900, [\"McKinley\", \"Bryan\"]],\n",
    "    [1904, [\"Roosevelt\", \"Parker\"]],\n",
    "    [1908, [\"Taft\", \"Bryan\"]],\n",
    "    [1912, [\"Wilson\", \"Roosevelt\", \"Taft\"]],\n",
    "    [1916, [\"Wilson\", \"Hughes\"]],\n",
    "    [1920, [\"Harding\", \"Cox\"]],\n",
    "    [1924, [\"Coolidge\", \"Davis\", \"La Follette\"]],\n",
    "    [1928, [\"Hoover\", \"Smith\"]],\n",
    "    [1932, [\"Roosevelt\", \"Hoover\"]],\n",
    "    [1936, [\"Roosevelt\", \"Landon\"]],\n",
    "    [1940, [\"Roosevelt\", \"Wilkie\"]],\n",
    "    [1944, [\"Roosevelt\", \"Dewey\"]],\n",
    "    [1948, [\"Truman\", \"Dewey\", \"Thurmond\"]],\n",
    "    [1952, [\"Eisenhower\", \"Stevenson\"]],\n",
    "    [1956, [\"Eisenhower\", \"Stevenson\"]],\n",
    "    [1960, [\"Kennedy\", \"Nixon\"]],\n",
    "    [1964, [\"Johnson\", \"Goldwater\"]],\n",
    "    [1968, [\"Nixon\", \"Humphrey\", \"Wallace\"]],\n",
    "    [1972, [\"Nixon\", \"McGovern\"]],\n",
    "    [1976, [\"Carter\", \"Ford\"]],\n",
    "    [1980, [\"Reagan\", \"Carter\"]],\n",
    "    [1984, [\"Reagan\", \"Ferraro\"]],\n",
    "    [1988, [\"Bush\", \"Dukakis\"]],\n",
    "    [1992, [\"Clinton\", \"Bush\"]],\n",
    "    [1996, [\"Clinton\", \"Dole\"]],\n",
    "    [2000, [\"Bush\", \"Gore\"]],\n",
    "    [2004, [\"Bush\", \"Kerry\"]],\n",
    "    [2008, [\"Obama\", \"McCain\"]],\n",
    "    [2012, [\"Obama\", \"Romney\"]],\n",
    "    [2016, [\"Trump\", \"Clinton\"]],\n",
    "    [2020, [\"Biden\", \"Trump\"]],\n",
    "    [2024, [\"Trump\", \"Harris\"]]\n",
    "]"
   ]
  },
  {
   "cell_type": "code",
   "execution_count": null,
   "id": "8a92f02d-562f-4f3a-9d30-03cf6d13e877",
   "metadata": {},
   "outputs": [
    {
     "name": "stdout",
     "output_type": "stream",
     "text": [
      "1, 1, 2, 2, 2, 2, 2, 2, 1, 2, 2, 2, 2, 2, 2, 2, 2, 3, 4, 2, 2, 2, 2, 2, 2, 2, 3, 2, 2, 2, 2, 3, 2, 2, 3, 2, 2, 2, 2, 2, 3, 2, 2, 2, 2, 3, 2, 2, 2, 2, 2, 2, 2, 2, 2, 2, 2, 2, 2, 2, \n",
      "0, 0, 0, 1, 1, 1, 1, 1, 0, 0, 1, 1, 1, 0, 1, 1, 0, 0, 3, 0, 0, 0, 0, 0, 1, 1, 0, 1, 1, 1, 1, 2, 1, 1, 0, 0, 1, 1, 0, 1, 2, 0, 0, 0, 1, 1, 1, 0, 1, 1, 0, 1, 0, 0, 0, 1, 0, 1, 0, 1, \n",
      "\n",
      "0, 0, 0, 1, 1, 1, 1, 1, 0, 0, 1, 1, 1, 0, 1, 1, 0, 0, 3, 0, 0, 0, 0, 0, 1, 1, 0, 1, 1, 1, 1, 2, 1, 1, 0, 0, 1, 1, 0, 1, 2, 0, 0, 0, 1, 1, 1, 0, 1, 1, 0, 1, 0, 0, 0, 1, 0, 1, 0, 1, \n"
     ]
    }
   ],
   "source": [
    "#%%\n",
    "\n",
    "for e in elections:\n",
    "    sorted_names = sorted(e[1])\n",
    "    result = sorted_names.index(e[1][0])\n",
    "    e.append(len(sorted_names))\n",
    "    e.append(result)\n",
    "\n",
    "start = time.time()\n",
    "max_correct = 0\n",
    "best_seed = -1\n",
    "\n",
    "# Get array data\n",
    "for e in elections:\n",
    "    print(e[2], end=', ')\n",
    "sys.stdout.flush()\n",
    "print()\n",
    "for e in elections:\n",
    "    print(e[3], end=', ')\n",
    "sys.stdout.flush()\n",
    "print()"
   ]
  },
  {
   "cell_type": "code",
   "execution_count": null,
   "id": "9fa59f8e-4dd9-4d5d-9788-dd74fa5994ff",
   "metadata": {},
   "outputs": [],
   "source": [
    "#%%\n",
    "\n",
    "elections = elections[48:]"
   ]
  },
  {
   "cell_type": "code",
   "execution_count": null,
   "id": "3762f7ec-9ae7-4049-a5bb-7507e5c599a1",
   "metadata": {},
   "outputs": [
    {
     "name": "stdout",
     "output_type": "stream",
     "text": [
      "22.939340114593506\n",
      "996611\n",
      "12/12\n"
     ]
    }
   ],
   "source": [
    "#%%\n",
    "\n",
    "def simulate_elections(seed):\n",
    "    random.seed(seed)\n",
    "    correct = 0\n",
    "    for j in range(len(elections)):\n",
    "        result = random.randint(0, elections[j][2]-1)\n",
    "        if result == elections[j][3]:\n",
    "            correct += 1\n",
    "    return correct\n",
    "\n",
    "for i in range(int(TRIALS)):\n",
    "    correct = simulate_elections(i)\n",
    "    if correct >= max_correct:\n",
    "        max_correct = correct\n",
    "        best_seed = i\n",
    "print(time.time() - start)\n",
    "print(best_seed)\n",
    "print(f\"{max_correct}/{len(elections)}\")"
   ]
  },
  {
   "cell_type": "code",
   "execution_count": null,
   "id": "f5367152-212b-4df6-aa8d-0a1d1d43c8d2",
   "metadata": {},
   "outputs": [
    {
     "name": "stdout",
     "output_type": "stream",
     "text": [
      "1980: Reagan/Reagan\n",
      "1984: Reagan/Reagan\n",
      "1988: Bush/Bush\n",
      "1992: Clinton/Clinton\n",
      "1996: Clinton/Clinton\n",
      "2000: Bush/Bush\n",
      "2004: Bush/Bush\n",
      "2008: Obama/Obama\n",
      "2012: Obama/Obama\n",
      "2016: Trump/Trump\n",
      "2020: Biden/Biden\n",
      "2024: Trump/Trump\n"
     ]
    }
   ],
   "source": [
    "random.seed(996611)\n",
    "correct = 0\n",
    "for j in range(len(elections)):\n",
    "    result = random.randint(0, elections[j][2]-1)\n",
    "    true = elections[j][3]\n",
    "    sorted_names = sorted(elections[j][1])\n",
    "    print(f\"{elections[j][0]}: {sorted_names[true]}/{sorted_names[result]}\")"
   ]
  }
 ],
 "metadata": {
  "language_info": {
   "codemirror_mode": {
    "name": "ipython",
    "version": 3
   },
   "file_extension": ".py",
   "mimetype": "text/x-python",
   "name": "python",
   "nbconvert_exporter": "python",
   "pygments_lexer": "ipython3",
   "version": 3
  }
 },
 "nbformat": 4,
 "nbformat_minor": 2
}
